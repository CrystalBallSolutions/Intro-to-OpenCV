{
 "cells": [
  {
   "cell_type": "markdown",
   "metadata": {},
   "source": [
    "[![Open In Colab](https://colab.research.google.com/assets/colab-badge.svg)](https://github.com/CrystalBallSolutions/Intro-to-OpenCV/blob/master/intro_OpenCV_complete.ipynb)"
   ]
  },
  {
   "cell_type": "code",
   "execution_count": null,
   "metadata": {
    "colab": {
     "base_uri": "https://localhost:8080/"
    },
    "id": "pJXXKf5O9nCQ",
    "outputId": "1c2ddcef-027c-40be-cdf0-85ab38449d15"
   },
   "outputs": [],
   "source": [
    "# nuke media\n",
    "!rm -f *.png *.jpeg *.jpg *.avi *.mp4"
   ]
  },
  {
   "cell_type": "markdown",
   "metadata": {
    "id": "UBqw7YnDupuM"
   },
   "source": [
    "# Introduction to OpenCV\n",
    "<img src='https://opencv.org/wp-content/uploads/2022/05/logo.png'>\n",
    "\n",
    "## Handling image/video data using OpenCV\n",
    "\n",
    "Goal: Introduce methods for ingesting and manipulating image/video data using Python, specifically using the OpenCV library. We will also briefly introduce plugging this data into a pre-trained object detection network.\n",
    "\n",
    "## What is OpenCV?\n",
    "OpenCV is a versatile and powerful software framework for image and video processing. It provides a comprehensive range of tools and algorithms for tasks such as image capture, filtering, feature detection, and object recognition. With support for multiple programming languages (Python, C++, Java, MATLAB) and integration with popular libraries, OpenCV enables developers to create sophisticated computer vision applications across various domains. Its efficiency and optimization for real-time applications make it a go-to choice for researchers/engineers working in the field of computer vision.\n",
    "\n",
    "## Gameplan:\n",
    "1.   Installing OpenCV\n",
    "     - Install dependencies\n",
    "     - Import dependencies\n",
    "2.   Images\n",
    "     - Read in an image\n",
    "     - Render image\n",
    "     - Save image\n",
    "3.   Video\n",
    "     - Download a video\n",
    "     - Set up capture\n",
    "     - Capture properties\n",
    "     - Working with capture\n",
    "     - Exporting videos\n",
    "4.   Object Detection\n",
    "     - Install object detection model\n",
    "     - Object detection on video\n",
    "     - Custom object detection\n",
    "\n"
   ]
  },
  {
   "cell_type": "markdown",
   "metadata": {
    "jp-MarkdownHeadingCollapsed": true,
    "tags": []
   },
   "source": [
    "# Helper Functions"
   ]
  },
  {
   "cell_type": "code",
   "execution_count": null,
   "metadata": {},
   "outputs": [],
   "source": [
    "import platform\n",
    "WINDOWS = False\n",
    "if platform.system() == 'Windows':\n",
    "    WINDOWS = True\n",
    "WINDOWS"
   ]
  },
  {
   "cell_type": "code",
   "execution_count": null,
   "metadata": {
    "colab": {
     "base_uri": "https://localhost:8080/"
    },
    "id": "fWT7sSmG8VjM",
    "outputId": "26775d8e-9ca3-4354-d0d5-bf17c1fe3797"
   },
   "outputs": [],
   "source": [
    "if 'google.colab' in str(get_ipython()):\n",
    "    IN_COLAB = True\n",
    "    from google.colab.patches import cv2_imshow\n",
    "else:\n",
    "    IN_COLAB = False\n",
    "IN_COLAB"
   ]
  },
  {
   "cell_type": "code",
   "execution_count": null,
   "metadata": {},
   "outputs": [],
   "source": [
    "# Show image for either CoLab or notebook\n",
    "\n",
    "def show_image(img_path):\n",
    "    if IN_COLAB:\n",
    "        cv2_imshow(img_path)\n",
    "    else:\n",
    "        cv2.imshow('display', img_path)\n",
    "        cv2.waitKey(0)\n",
    "        cv2.destroyAllWindows()"
   ]
  },
  {
   "cell_type": "code",
   "execution_count": null,
   "metadata": {},
   "outputs": [],
   "source": [
    "# This is one way to display videos in a notebook\n",
    "\n",
    "from IPython.display import HTML\n",
    "from base64 import b64encode\n",
    "\n",
    "def show_video(video_path, video_width = 600):\n",
    "    compressed_path = \"temp_compressed.mp4\"\n",
    "    try:\n",
    "        Path(\"temp_compressed.mp4\").unlink()\n",
    "    except:\n",
    "        pass\n",
    "    try:\n",
    "        os.system(f\"ffmpeg -i {video_path} -vcodec libx264 {compressed_path}\")\n",
    "    except:\n",
    "        print('WARNING: ffmpeg failed')\n",
    "\n",
    "    video_file = open(compressed_path, \"r+b\").read()\n",
    "    video_url = f\"data:video/mp4;base64,{b64encode(video_file).decode()}\"\n",
    "    return HTML(f\"\"\"<video width={video_width} controls><source src=\"{video_url}\"></video>\"\"\")\n"
   ]
  },
  {
   "cell_type": "code",
   "execution_count": null,
   "metadata": {},
   "outputs": [],
   "source": [
    "# This is a way to grab a video from YouTube to play with\n",
    "\n",
    "!pip -q install pytube\n",
    "!pip -q install moviepy\n",
    "!pip -q install imageio_ffmpeg\n",
    "\n",
    "from pytube import YouTube\n",
    "from moviepy.video.io.VideoFileClip import VideoFileClip\n",
    "from pathlib import Path\n",
    "import os\n",
    "\n",
    "def download_youtube(yt_path, output_dir = Path(os.getcwd()), out_filename = None):\n",
    "    yt = YouTube(yt_path)\n",
    "    highest_quality_video = yt.streams.filter(progressive=True, file_extension='mp4').order_by('resolution').desc().first()\n",
    "    download_path = highest_quality_video.download()\n",
    "    download_path = Path(download_path)\n",
    "    if out_filename is None:\n",
    "        video_name = download_path.name\n",
    "        video_name = str(video_name).replace(' ','_').replace('-','')[:min(24, len(video_name))] + download_path.suffix\n",
    "    else:\n",
    "        video_name = out_filename\n",
    "\n",
    "    video_path = download_path.replace(output_dir/video_name)\n",
    "    return video_path"
   ]
  },
  {
   "cell_type": "code",
   "execution_count": null,
   "metadata": {},
   "outputs": [],
   "source": [
    "# This is a way to trim a video\n",
    "\n",
    "from moviepy.video.io.ffmpeg_tools import ffmpeg_extract_subclip\n",
    "\n",
    "def trim_video(input_file, output_file, start_time, end_time):\n",
    "    ffmpeg_extract_subclip(input_file, start_time, end_time, targetname=output_file)"
   ]
  },
  {
   "cell_type": "markdown",
   "metadata": {
    "id": "IOaM6OUPvrxO"
   },
   "source": [
    "# 1. Installing OpenCV\n",
    "\n",
    "Documentation https://docs.opencv.org"
   ]
  },
  {
   "cell_type": "code",
   "execution_count": null,
   "metadata": {
    "id": "r77eKszXuCgv"
   },
   "outputs": [],
   "source": [
    "# Install dependencies\n",
    "!pip -q install opencv-python"
   ]
  },
  {
   "cell_type": "code",
   "execution_count": null,
   "metadata": {
    "scrolled": true
   },
   "outputs": [],
   "source": [
    "# check for gpu\n"
   ]
  },
  {
   "cell_type": "code",
   "execution_count": null,
   "metadata": {
    "id": "XHmNqqfVwXa9"
   },
   "outputs": [],
   "source": [
    "# Import dependencies\n",
    "import os\n",
    "import sys\n",
    "from pathlib import Path\n",
    "import cv2"
   ]
  },
  {
   "cell_type": "markdown",
   "metadata": {
    "id": "6h1joyqd3CUa"
   },
   "source": [
    "# 2. Images"
   ]
  },
  {
   "cell_type": "markdown",
   "metadata": {
    "id": "QcM08f2OBETY"
   },
   "source": [
    "## Read in an image"
   ]
  },
  {
   "cell_type": "code",
   "execution_count": null,
   "metadata": {
    "id": "k1Bfg2ilxSEG"
   },
   "outputs": [],
   "source": [
    "# download a picture\n",
    "if WINDOWS:\n",
    "    !curl https://www.doubledtrailers.com/assets/images/random%20horse%20facts%20shareable.png -o sample.png\n",
    "else:\n",
    "    !wget -q https://www.doubledtrailers.com/assets/images/random%20horse%20facts%20shareable.png -O sample.png"
   ]
  },
  {
   "cell_type": "code",
   "execution_count": null,
   "metadata": {},
   "outputs": [],
   "source": [
    "# read in image to cv2\n"
   ]
  },
  {
   "cell_type": "markdown",
   "metadata": {
    "id": "lsr0kt9rBJkl"
   },
   "source": [
    "## Render image"
   ]
  },
  {
   "cell_type": "code",
   "execution_count": null,
   "metadata": {},
   "outputs": [],
   "source": [
    "# don't forget that this is defined in the Helper Functions section\n"
   ]
  },
  {
   "cell_type": "code",
   "execution_count": null,
   "metadata": {
    "colab": {
     "base_uri": "https://localhost:8080/"
    },
    "id": "4kwxIR8o_PXm",
    "outputId": "bcc3de42-ab4d-415d-d987-59b1a8f31762"
   },
   "outputs": [],
   "source": [
    "# How is the image data represented?\n"
   ]
  },
  {
   "cell_type": "code",
   "execution_count": null,
   "metadata": {
    "colab": {
     "base_uri": "https://localhost:8080/",
     "height": 342
    },
    "id": "tXaNvi6DEJwi",
    "outputId": "b47a6e22-2195-45cd-8fae-59ce58840100"
   },
   "outputs": [],
   "source": [
    "!pip -q install matplotlib\n",
    "from matplotlib import pyplot as plt\n",
    "\n",
    "plt.imshow(img)"
   ]
  },
  {
   "cell_type": "code",
   "execution_count": null,
   "metadata": {
    "colab": {
     "base_uri": "https://localhost:8080/",
     "height": 342
    },
    "id": "BLAlVfvvEz-W",
    "outputId": "b91530f7-720f-45eb-8702-91cf5937ab18"
   },
   "outputs": [],
   "source": [
    "# reverse color channels\n",
    "\n",
    "plt.imshow(img_rgb)"
   ]
  },
  {
   "cell_type": "code",
   "execution_count": null,
   "metadata": {
    "colab": {
     "base_uri": "https://localhost:8080/"
    },
    "id": "TQHa0IwW_T0U",
    "outputId": "5431eb87-018e-4034-b2ad-942b00ac48f4"
   },
   "outputs": [],
   "source": [
    "# get some information about the image\n",
    "print(f'Shape Of image: {img.shape}')\n",
    "print(f'Rows of Pixels: {img.shape[0]} Rows')\n",
    "print(f'Columns of Pixels: {img.shape[1]} Columns')\n",
    "print(f'Color Channels: {img.shape[2]} Color Channels')"
   ]
  },
  {
   "cell_type": "markdown",
   "metadata": {
    "id": "t-g1kGkX8wT6"
   },
   "source": [
    "**Image coordinate system in OpenCV**\n",
    "An image is represented as a grid of pixels. The point (0, 0) corresponds to the top-left corner of the image (i.e., the origin). As we move down and to the right, both the x and y-values increase."
   ]
  },
  {
   "cell_type": "code",
   "execution_count": null,
   "metadata": {
    "colab": {
     "base_uri": "https://localhost:8080/"
    },
    "id": "eBcsFeV3AQHE",
    "outputId": "81a3904e-7dbf-41f0-f6c1-b2020f126f29"
   },
   "outputs": [],
   "source": [
    "height = img.shape[0] # dimension 0 is rows\n",
    "width = img.shape[1]  # dimension 1 is columns\n",
    "                      # dimension 2 is color array or intensity (for greyscale)\n",
    "\n",
    "# crop image; showing only right half\n",
    "\n",
    "\n",
    "\n",
    "show_image(cropped_img)"
   ]
  },
  {
   "cell_type": "code",
   "execution_count": null,
   "metadata": {
    "colab": {
     "base_uri": "https://localhost:8080/",
     "height": 331
    },
    "id": "ZONhlCFXCCVs",
    "outputId": "453c77fc-9b5b-47f9-f0a8-9749990018f1"
   },
   "outputs": [],
   "source": [
    "# crop again to isolate the corner with the eyes\n",
    "\n",
    "\n",
    "show_image(cropped_img)"
   ]
  },
  {
   "cell_type": "markdown",
   "metadata": {
    "id": "NZfVveZhBfzn"
   },
   "source": [
    "## Save image"
   ]
  },
  {
   "cell_type": "code",
   "execution_count": null,
   "metadata": {
    "colab": {
     "base_uri": "https://localhost:8080/"
    },
    "id": "e_MAb6oPCnjE",
    "outputId": "3c958408-7a43-46b4-ab32-0b9a15c0267d"
   },
   "outputs": [],
   "source": [
    "\n",
    "\n",
    "\n"
   ]
  },
  {
   "cell_type": "markdown",
   "metadata": {
    "id": "YhcahOb--RVQ"
   },
   "source": [
    "# 3. Video"
   ]
  },
  {
   "cell_type": "markdown",
   "metadata": {
    "id": "Dwn4y9g4n7Yy"
   },
   "source": [
    "## Download a video"
   ]
  },
  {
   "cell_type": "code",
   "execution_count": null,
   "metadata": {
    "id": "dLgieDHRj28z"
   },
   "outputs": [],
   "source": [
    "yt_path = 'https://www.youtube.com/watch?v=3kO21UGpCNw' # cars, people, bicycle\n",
    "# yt_path = 'https://www.youtube.com/watch?v=MjqtLTke7Nc' # boats from drone\n",
    "# yt_path = 'https://www.youtube.com/watch?v=Fuxo2Kbq5WM'   # IR\n",
    "\n",
    "download_youtube(yt_path, out_filename='sample.mp4')"
   ]
  },
  {
   "cell_type": "code",
   "execution_count": null,
   "metadata": {
    "colab": {
     "base_uri": "https://localhost:8080/"
    },
    "id": "5xPeGa13S5Yd",
    "outputId": "4ba3b7fb-0138-43dc-a0b8-cb74e3fe9388"
   },
   "outputs": [],
   "source": [
    "trim_video(input_file='sample.mp4', \n",
    "           output_file='sample_trimmed.mp4', \n",
    "           start_time=0, \n",
    "           end_time=5)"
   ]
  },
  {
   "cell_type": "code",
   "execution_count": null,
   "metadata": {
    "colab": {
     "base_uri": "https://localhost:8080/",
     "height": 512
    },
    "id": "s1tLISonj23X",
    "outputId": "61283a22-83a5-44b7-952f-00106576c144"
   },
   "outputs": [],
   "source": [
    "show_video('sample_trimmed.mp4')"
   ]
  },
  {
   "cell_type": "markdown",
   "metadata": {
    "id": "9BCCoQAIoD2d"
   },
   "source": [
    "## Set up capture"
   ]
  },
  {
   "cell_type": "code",
   "execution_count": null,
   "metadata": {
    "id": "vpAy2Rakj20f"
   },
   "outputs": [],
   "source": [
    "# set capture\n"
   ]
  },
  {
   "cell_type": "code",
   "execution_count": null,
   "metadata": {
    "colab": {
     "base_uri": "https://localhost:8080/",
     "height": 377
    },
    "id": "K0LCppPZsJB0",
    "outputId": "28183b71-2d7a-43a4-f1b5-7ac308c741e2"
   },
   "outputs": [],
   "source": [
    "# grab a single frame\n",
    "\n",
    "\n",
    "\n"
   ]
  },
  {
   "cell_type": "code",
   "execution_count": null,
   "metadata": {
    "id": "-pUrLo4zrwvG"
   },
   "outputs": [],
   "source": [
    "# free up video file\n"
   ]
  },
  {
   "cell_type": "markdown",
   "metadata": {
    "id": "9fkoRVyXoKEJ"
   },
   "source": [
    "## Capture properties"
   ]
  },
  {
   "cell_type": "code",
   "execution_count": null,
   "metadata": {
    "id": "q6mLUz6TuX32"
   },
   "outputs": [],
   "source": [
    "# re-open the capture\n"
   ]
  },
  {
   "cell_type": "code",
   "execution_count": null,
   "metadata": {
    "colab": {
     "base_uri": "https://localhost:8080/"
    },
    "id": "wYalXoe2j2xt",
    "outputId": "8425bc77-a89b-4fad-faca-838d451afe15"
   },
   "outputs": [],
   "source": [
    "# frame height\n",
    "\n",
    "height"
   ]
  },
  {
   "cell_type": "code",
   "execution_count": null,
   "metadata": {
    "colab": {
     "base_uri": "https://localhost:8080/"
    },
    "id": "anJwChVot678",
    "outputId": "1866a14e-82a5-4b11-939d-42dd7a4a8095"
   },
   "outputs": [],
   "source": [
    "# frame width\n",
    "\n",
    "width"
   ]
  },
  {
   "cell_type": "code",
   "execution_count": null,
   "metadata": {
    "colab": {
     "base_uri": "https://localhost:8080/"
    },
    "id": "ZLwlF5fgt6yF",
    "outputId": "2651e15b-293d-4d0a-a7ce-1d852164a25b"
   },
   "outputs": [],
   "source": [
    "# number of frames in video\n",
    "\n",
    "n_frames"
   ]
  },
  {
   "cell_type": "code",
   "execution_count": null,
   "metadata": {
    "colab": {
     "base_uri": "https://localhost:8080/"
    },
    "id": "Rre0Mc_fukUi",
    "outputId": "0c6b6279-c3ac-464f-d0e6-83fd151da180"
   },
   "outputs": [],
   "source": [
    "# frames rate\n",
    "\n",
    "fps"
   ]
  },
  {
   "cell_type": "code",
   "execution_count": null,
   "metadata": {
    "colab": {
     "base_uri": "https://localhost:8080/"
    },
    "id": "ARwDuLI0uwpE",
    "outputId": "a3046eaa-841c-43b1-906b-0637348534af"
   },
   "outputs": [],
   "source": [
    "video_length = n_frames / fps\n",
    "print(f'video is {video_length:.2f} seconds long')"
   ]
  },
  {
   "cell_type": "code",
   "execution_count": null,
   "metadata": {
    "id": "mHup4ANuwSHE"
   },
   "outputs": [],
   "source": [
    "# release capture\n"
   ]
  },
  {
   "cell_type": "markdown",
   "metadata": {
    "id": "fmKmvzmhoNa-"
   },
   "source": [
    "## Working with capture"
   ]
  },
  {
   "cell_type": "code",
   "execution_count": null,
   "metadata": {
    "id": "f6CIcMU2j2u7"
   },
   "outputs": [],
   "source": [
    "# establish the capture\n",
    "\n",
    "# loop through each frame\n",
    "\n",
    "\n",
    "\n",
    "\n",
    "    # read a frame\n",
    "    \n",
    "\n",
    "    # make any desired modifications\n",
    "    \n",
    "    # display frame\n",
    "    \n",
    "\n",
    "# close everything down\n"
   ]
  },
  {
   "cell_type": "markdown",
   "metadata": {
    "id": "oCLEoTpAoQvd"
   },
   "source": [
    "## Exporting videos"
   ]
  },
  {
   "cell_type": "code",
   "execution_count": null,
   "metadata": {},
   "outputs": [],
   "source": [
    "# establish the capture\n",
    "\n",
    "# loop through each frame\n",
    "\n",
    "\n",
    "\n",
    "\n",
    "    # read a frame\n",
    "    \n",
    "\n",
    "    # make any desired modifications\n",
    "    \n",
    "    # write out frame\n",
    "    \n",
    "\n",
    "# close everything down\n",
    "\n"
   ]
  },
  {
   "cell_type": "code",
   "execution_count": null,
   "metadata": {
    "colab": {
     "base_uri": "https://localhost:8080/",
     "height": 359
    },
    "id": "39qcP5EVj2m2",
    "outputId": "f0d985c1-c1aa-48a7-c42c-1149e056c014"
   },
   "outputs": [],
   "source": [
    "show_video('output.avi')"
   ]
  },
  {
   "cell_type": "markdown",
   "metadata": {
    "id": "vK5C8_wXdE--"
   },
   "source": [
    "# 4. Object Detection"
   ]
  },
  {
   "cell_type": "markdown",
   "metadata": {
    "id": "YgvAqyo3dEwZ"
   },
   "source": [
    "## Install object detection model"
   ]
  },
  {
   "cell_type": "code",
   "execution_count": null,
   "metadata": {
    "colab": {
     "base_uri": "https://localhost:8080/"
    },
    "id": "rViFKWWhh1Qy",
    "outputId": "55e3db28-73a8-4520-f98e-2e4b6e62209f"
   },
   "outputs": [],
   "source": [
    "!pip install ultralytics\n",
    "import ultralytics\n",
    "ultralytics.checks()"
   ]
  },
  {
   "cell_type": "code",
   "execution_count": null,
   "metadata": {
    "colab": {
     "base_uri": "https://localhost:8080/"
    },
    "id": "MrvzS59Lj2hU",
    "outputId": "fdc4cca8-6e96-4028-90fa-abada2e7443b"
   },
   "outputs": [],
   "source": [
    "from ultralytics import YOLO\n",
    "\n",
    "# Load a model\n",
    "model = YOLO('yolov8n.pt')  # load pre-trained model\n",
    "\n",
    "# Test on an image\n",
    "!yolo predict model=yolov8n.pt source='https://ultralytics.com/images/zidane.jpg'"
   ]
  },
  {
   "cell_type": "markdown",
   "metadata": {
    "id": "5jPK8HYShVhO"
   },
   "source": [
    "## Object detection on video"
   ]
  },
  {
   "cell_type": "code",
   "execution_count": null,
   "metadata": {
    "id": "W1pJ5zbUj2a_"
   },
   "outputs": [],
   "source": [
    "from ultralytics.yolo.utils.plotting import Annotator\n",
    "\n",
    "# establish the capture\n",
    "cap = cv2.VideoCapture('sample_trimmed.mp4')\n",
    "\n",
    "# Properties\n",
    "height = int(cap.get(cv2.CAP_PROP_FRAME_HEIGHT))\n",
    "width = int(cap.get(cv2.CAP_PROP_FRAME_WIDTH))\n",
    "fps = int(cap.get(cv2.CAP_PROP_FPS))\n",
    "\n",
    "# Video Writer\n",
    "video_writer = cv2.VideoWriter('output.avi',\n",
    "                               cv2.VideoWriter_fourcc('P','I','M','1'),\n",
    "                               fps,\n",
    "                               (width, height),\n",
    "                               isColor=True)\n",
    "\n",
    "# loop through each frame\n",
    "n_frames = cap.get(cv2.CAP_PROP_FRAME_COUNT)\n",
    "\n",
    "for frame_index in range(int(n_frames)):\n",
    "    # read a frame\n",
    "    ret, frame = cap.read()\n",
    "    if ret == False: break\n",
    "\n",
    "    # YOLOv8 expects RGB\n",
    "    img = cv2.cvtColor(frame, cv2.COLOR_BGR2RGB)\n",
    "\n",
    "    # inference on image\n",
    "    results = model.predict(img)\n",
    "\n",
    "    # add bounding boxes for each detection\n",
    "    for r in results:\n",
    "        annotator = Annotator(frame)\n",
    "\n",
    "        boxes = r.boxes\n",
    "        for box in boxes:\n",
    "\n",
    "            b = box.xyxy[0]  # get box coordinates in (top, left, bottom, right) format\n",
    "            c = box.cls\n",
    "            annotator.box_label(b, model.names[int(c)])\n",
    "\n",
    "    frame = annotator.result()  # overwrite frame with Annotator output\n",
    "\n",
    "    if not IN_COLAB: cv2.imshow('video player', frame)\n",
    "\n",
    "    # Write out frame\n",
    "    video_writer.write(frame)\n",
    "\n",
    "    # Optional breaking out of the loop\n",
    "    if cv2.waitKey(10) & 0xFF == ord('q'):\n",
    "        break\n",
    "\n",
    "# close everything down\n",
    "cap.release()\n",
    "cv2.destroyAllWindows()\n",
    "video_writer.release()"
   ]
  },
  {
   "cell_type": "code",
   "execution_count": null,
   "metadata": {
    "colab": {
     "base_uri": "https://localhost:8080/",
     "height": 512
    },
    "id": "0zs0eS6Hi6ji",
    "outputId": "683a2ee6-9c63-44ba-951a-24f3f820371d"
   },
   "outputs": [],
   "source": [
    "show_video('output.avi')"
   ]
  },
  {
   "cell_type": "markdown",
   "metadata": {
    "id": "Hb6HRHVGkM9w"
   },
   "source": [
    "## Custom object detection"
   ]
  },
  {
   "cell_type": "code",
   "execution_count": null,
   "metadata": {
    "tags": []
   },
   "outputs": [],
   "source": [
    "yt_path = 'https://www.youtube.com/watch?v=BQo87tGRM74'\n",
    "download_youtube(yt_path, out_filename='sample.mp4')\n",
    "trim_video(input_file='sample.mp4', \n",
    "           output_file='sample_trimmed.mp4', \n",
    "           start_time=5, \n",
    "           end_time=10)"
   ]
  },
  {
   "cell_type": "code",
   "execution_count": null,
   "metadata": {
    "tags": []
   },
   "outputs": [],
   "source": [
    "show_video('sample_trimmed.mp4')"
   ]
  },
  {
   "cell_type": "code",
   "execution_count": null,
   "metadata": {
    "tags": []
   },
   "outputs": [],
   "source": [
    "# Load a model\n",
    "model = YOLO('best.pt')  # load pre-trained model\n",
    "\n",
    "# establish the capture\n",
    "cap = cv2.VideoCapture('sample_trimmed.mp4')\n",
    "\n",
    "# Properties\n",
    "height = int(cap.get(cv2.CAP_PROP_FRAME_HEIGHT))\n",
    "width = int(cap.get(cv2.CAP_PROP_FRAME_WIDTH))\n",
    "fps = int(cap.get(cv2.CAP_PROP_FPS))\n",
    "\n",
    "# Video Writer\n",
    "video_writer = cv2.VideoWriter('output.avi',\n",
    "                               cv2.VideoWriter_fourcc('P','I','M','1'),\n",
    "                               fps,\n",
    "                               (width, height),\n",
    "                               isColor=True)\n",
    "\n",
    "# loop through each frame\n",
    "n_frames = cap.get(cv2.CAP_PROP_FRAME_COUNT)\n",
    "\n",
    "for frame_index in range(int(n_frames)):\n",
    "    # read a frame\n",
    "    ret, frame = cap.read()\n",
    "    if ret == False: break\n",
    "\n",
    "    frame = cv2.resize(frame, (width//2, height//2))\n",
    "    \n",
    "    # YOLOv8 expects RGB\n",
    "    img = cv2.cvtColor(frame, cv2.COLOR_BGR2RGB)\n",
    "\n",
    "    # inference on image\n",
    "    print(f'frame {frame_index} of {int(n_frames)}')\n",
    "    results = model.predict(img)\n",
    "\n",
    "    # add bounding boxes for each detection\n",
    "    for r in results:\n",
    "        annotator = Annotator(frame)\n",
    "\n",
    "        boxes = r.boxes\n",
    "        for box in boxes:\n",
    "\n",
    "            b = box.xyxy[0]  # get box coordinates in (top, left, bottom, right) format\n",
    "            c = box.cls\n",
    "            annotator.box_label(b, model.names[int(c)])\n",
    "\n",
    "    frame = annotator.result()  # overwrite frame with Annotator output\n",
    "\n",
    "    if not IN_COLAB: cv2.imshow('video player', frame)\n",
    "    \n",
    "    # Write out frame\n",
    "    video_writer.write(frame)\n",
    "\n",
    "    # Optional breaking out of the loop\n",
    "    if cv2.waitKey(10) & 0xFF == ord('q'):\n",
    "        break\n",
    "\n",
    "# close everything down\n",
    "cap.release()\n",
    "cv2.destroyAllWindows()\n",
    "video_writer.release()"
   ]
  },
  {
   "cell_type": "code",
   "execution_count": null,
   "metadata": {
    "tags": []
   },
   "outputs": [],
   "source": [
    "show_video('output.avi')"
   ]
  },
  {
   "cell_type": "code",
   "execution_count": null,
   "metadata": {},
   "outputs": [],
   "source": []
  }
 ],
 "metadata": {
  "colab": {
   "provenance": []
  },
  "kernelspec": {
   "display_name": "Python 3 (ipykernel)",
   "language": "python",
   "name": "python3"
  },
  "language_info": {
   "codemirror_mode": {
    "name": "ipython",
    "version": 3
   },
   "file_extension": ".py",
   "mimetype": "text/x-python",
   "name": "python",
   "nbconvert_exporter": "python",
   "pygments_lexer": "ipython3",
   "version": "3.9.16"
  }
 },
 "nbformat": 4,
 "nbformat_minor": 4
}
